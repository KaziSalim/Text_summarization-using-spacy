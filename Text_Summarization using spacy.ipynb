{
 "cells": [
  {
   "cell_type": "code",
   "execution_count": null,
   "id": "34d1ba83",
   "metadata": {},
   "outputs": [],
   "source": [
    "# Text summerization using spacy"
   ]
  },
  {
   "cell_type": "code",
   "execution_count": 1,
   "id": "80e11c09",
   "metadata": {},
   "outputs": [],
   "source": [
    "text = \"\"\"\n",
    "Natural language processing (NLP) is a field of artificial intelligence that focuses on the interaction \n",
    "between computers and humans using natural language. The ultimate objective of NLP is to enable computers \n",
    "to understand, interpret, and generate human-like text. In recent years, NLP has seen tremendous advancements \n",
    "with the development of deep learning models and large-scale language models like GPT-3. These models have \n",
    "revolutionized various NLP tasks, including machine translation, sentiment analysis, and text summarization.\n",
    "\"\"\""
   ]
  },
  {
   "cell_type": "code",
   "execution_count": 2,
   "id": "5fcb7780",
   "metadata": {},
   "outputs": [],
   "source": [
    "import spacy\n",
    "from spacy.lang.en.stop_words import STOP_WORDS\n",
    "from string import punctuation"
   ]
  },
  {
   "cell_type": "code",
   "execution_count": 3,
   "id": "00b7b1da",
   "metadata": {},
   "outputs": [
    {
     "data": {
      "text/plain": [
       "['formerly',\n",
       " 'just',\n",
       " 'the',\n",
       " 'show',\n",
       " 'meanwhile',\n",
       " 'several',\n",
       " '’d',\n",
       " '’m',\n",
       " \"'re\",\n",
       " 'may',\n",
       " 'will',\n",
       " 'was',\n",
       " 'yours',\n",
       " 'mine',\n",
       " 'much',\n",
       " 'back',\n",
       " 'him',\n",
       " 'due',\n",
       " 'perhaps',\n",
       " 'per',\n",
       " 'make',\n",
       " 'one',\n",
       " \"'d\",\n",
       " 'somewhere',\n",
       " 'becoming',\n",
       " 'throughout',\n",
       " 'between',\n",
       " 'take',\n",
       " 'thereafter',\n",
       " 'out',\n",
       " 'down',\n",
       " 'therefore',\n",
       " 'amount',\n",
       " 'someone',\n",
       " 'besides',\n",
       " 'even',\n",
       " 'twenty',\n",
       " 'most',\n",
       " 'call',\n",
       " 'about',\n",
       " 'third',\n",
       " 'this',\n",
       " 'them',\n",
       " 'go',\n",
       " 'front',\n",
       " 'because',\n",
       " 'though',\n",
       " 'via',\n",
       " 'further',\n",
       " 'wherever',\n",
       " 'did',\n",
       " 'quite',\n",
       " 'afterwards',\n",
       " 'became',\n",
       " 'towards',\n",
       " 'get',\n",
       " 'an',\n",
       " 'how',\n",
       " 'ourselves',\n",
       " 'ten',\n",
       " 'thereupon',\n",
       " \"'s\",\n",
       " 'along',\n",
       " 'during',\n",
       " 'something',\n",
       " \"'m\",\n",
       " 'were',\n",
       " 'made',\n",
       " 'should',\n",
       " '’ll',\n",
       " '’s',\n",
       " 'herein',\n",
       " 'sometime',\n",
       " 'rather',\n",
       " 'whenever',\n",
       " 'each',\n",
       " 'others',\n",
       " 'please',\n",
       " 'hers',\n",
       " 'but',\n",
       " 'become',\n",
       " 'seems',\n",
       " 'anything',\n",
       " 'than',\n",
       " 'either',\n",
       " 'am',\n",
       " 'where',\n",
       " 'part',\n",
       " 'seem',\n",
       " 'of',\n",
       " 'top',\n",
       " 'almost',\n",
       " 'beyond',\n",
       " 'four',\n",
       " 'every',\n",
       " 'indeed',\n",
       " 'hereupon',\n",
       " 'you',\n",
       " 'ca',\n",
       " 'hereafter',\n",
       " 'around',\n",
       " 'do',\n",
       " 'thence',\n",
       " 'fifteen',\n",
       " 'whence',\n",
       " 'noone',\n",
       " 'yet',\n",
       " 'be',\n",
       " '‘m',\n",
       " 'on',\n",
       " 'twelve',\n",
       " 'too',\n",
       " 'whose',\n",
       " 'thru',\n",
       " 'hereby',\n",
       " 'otherwise',\n",
       " 'to',\n",
       " 'any',\n",
       " 'never',\n",
       " 'not',\n",
       " 'might',\n",
       " 'hence',\n",
       " 'my',\n",
       " 'cannot',\n",
       " '’ve',\n",
       " 'everywhere',\n",
       " 'onto',\n",
       " \"n't\",\n",
       " 'we',\n",
       " 'amongst',\n",
       " 'anyway',\n",
       " 'in',\n",
       " 'those',\n",
       " 'below',\n",
       " 'whereupon',\n",
       " 'latterly',\n",
       " 'seemed',\n",
       " 'across',\n",
       " 'all',\n",
       " 'under',\n",
       " 'with',\n",
       " 'less',\n",
       " 'your',\n",
       " 'unless',\n",
       " '‘s',\n",
       " 'both',\n",
       " 'before',\n",
       " 'nobody',\n",
       " 'within',\n",
       " 'more',\n",
       " 'always',\n",
       " 'once',\n",
       " 'n’t',\n",
       " 'other',\n",
       " 'here',\n",
       " 'many',\n",
       " 'becomes',\n",
       " 'else',\n",
       " '‘d',\n",
       " 'through',\n",
       " 'whereby',\n",
       " 'say',\n",
       " 'anyhow',\n",
       " 'really',\n",
       " 'would',\n",
       " 'move',\n",
       " 'that',\n",
       " 'beforehand',\n",
       " 'had',\n",
       " 'somehow',\n",
       " 'two',\n",
       " 'us',\n",
       " 'put',\n",
       " 'everyone',\n",
       " 'are',\n",
       " 'another',\n",
       " 'by',\n",
       " 'moreover',\n",
       " 'me',\n",
       " 'ever',\n",
       " 'seeming',\n",
       " 'still',\n",
       " 'does',\n",
       " 'herself',\n",
       " 'eleven',\n",
       " 'it',\n",
       " 'nothing',\n",
       " 'their',\n",
       " 'his',\n",
       " 'sometimes',\n",
       " 'using',\n",
       " 'so',\n",
       " 'together',\n",
       " 'although',\n",
       " 'however',\n",
       " 'against',\n",
       " 'could',\n",
       " 'whole',\n",
       " 'up',\n",
       " 'few',\n",
       " 'own',\n",
       " 'being',\n",
       " 'its',\n",
       " 'whoever',\n",
       " 'myself',\n",
       " 'least',\n",
       " 'various',\n",
       " 'over',\n",
       " 'full',\n",
       " 'themselves',\n",
       " 'none',\n",
       " 'they',\n",
       " 'nor',\n",
       " 'former',\n",
       " 'her',\n",
       " 'which',\n",
       " 'has',\n",
       " '‘ve',\n",
       " 'himself',\n",
       " 'no',\n",
       " 'yourselves',\n",
       " 'why',\n",
       " '‘re',\n",
       " 'whom',\n",
       " 'whether',\n",
       " 'toward',\n",
       " 'who',\n",
       " 'into',\n",
       " 'a',\n",
       " 'well',\n",
       " 'our',\n",
       " 'forty',\n",
       " 'she',\n",
       " 'off',\n",
       " 'thus',\n",
       " 'anyone',\n",
       " 'whither',\n",
       " 'first',\n",
       " 'name',\n",
       " 'nine',\n",
       " 'done',\n",
       " 'what',\n",
       " 'from',\n",
       " 'without',\n",
       " 're',\n",
       " 'above',\n",
       " 'some',\n",
       " 'if',\n",
       " 'among',\n",
       " 'there',\n",
       " 'alone',\n",
       " 'last',\n",
       " 'whatever',\n",
       " 'only',\n",
       " 'already',\n",
       " 'bottom',\n",
       " 'can',\n",
       " 'give',\n",
       " 'upon',\n",
       " 'five',\n",
       " 'same',\n",
       " 'when',\n",
       " 'have',\n",
       " \"'ve\",\n",
       " 'neither',\n",
       " 'nevertheless',\n",
       " 'anywhere',\n",
       " 'as',\n",
       " 'namely',\n",
       " 'wherein',\n",
       " 'fifty',\n",
       " 'is',\n",
       " 'must',\n",
       " 'i',\n",
       " 'yourself',\n",
       " 'six',\n",
       " '’re',\n",
       " 'itself',\n",
       " 'doing',\n",
       " 'thereby',\n",
       " 'everything',\n",
       " 'regarding',\n",
       " 'for',\n",
       " 'side',\n",
       " 'eight',\n",
       " 'after',\n",
       " 'except',\n",
       " 'at',\n",
       " 'ours',\n",
       " 'see',\n",
       " 'or',\n",
       " 'sixty',\n",
       " 'three',\n",
       " 'very',\n",
       " 'until',\n",
       " 'keep',\n",
       " 'often',\n",
       " 'he',\n",
       " 'elsewhere',\n",
       " 'been',\n",
       " 'latter',\n",
       " 'while',\n",
       " 'behind',\n",
       " 'next',\n",
       " 'n‘t',\n",
       " 'serious',\n",
       " 'enough',\n",
       " 'whereafter',\n",
       " \"'ll\",\n",
       " 'hundred',\n",
       " 'mostly',\n",
       " 'such',\n",
       " 'since',\n",
       " 'nowhere',\n",
       " 'these',\n",
       " 'used',\n",
       " 'beside',\n",
       " 'now',\n",
       " 'whereas',\n",
       " 'then',\n",
       " 'and',\n",
       " 'empty',\n",
       " 'therein',\n",
       " 'also',\n",
       " 'again',\n",
       " '‘ll']"
      ]
     },
     "execution_count": 3,
     "metadata": {},
     "output_type": "execute_result"
    }
   ],
   "source": [
    "stopwords = list(STOP_WORDS)\n",
    "stopwords"
   ]
  },
  {
   "cell_type": "code",
   "execution_count": 4,
   "id": "06615d5b",
   "metadata": {},
   "outputs": [
    {
     "data": {
      "text/plain": [
       "'!\"#$%&\\'()*+,-./:;<=>?@[\\\\]^_`{|}~'"
      ]
     },
     "execution_count": 4,
     "metadata": {},
     "output_type": "execute_result"
    }
   ],
   "source": [
    "punctuation"
   ]
  },
  {
   "cell_type": "code",
   "execution_count": null,
   "id": "1ad07d3d",
   "metadata": {},
   "outputs": [],
   "source": [
    "# Load the pretrained english language model"
   ]
  },
  {
   "cell_type": "code",
   "execution_count": 5,
   "id": "e0320fcc",
   "metadata": {},
   "outputs": [],
   "source": [
    "nlp = spacy.load('en_core_web_sm')"
   ]
  },
  {
   "cell_type": "code",
   "execution_count": 6,
   "id": "d0d06f27",
   "metadata": {},
   "outputs": [],
   "source": [
    "doc = nlp(text)"
   ]
  },
  {
   "cell_type": "code",
   "execution_count": 7,
   "id": "dcf67bc3",
   "metadata": {},
   "outputs": [
    {
     "data": {
      "text/plain": [
       "\n",
       "Natural language processing (NLP) is a field of artificial intelligence that focuses on the interaction \n",
       "between computers and humans using natural language. The ultimate objective of NLP is to enable computers \n",
       "to understand, interpret, and generate human-like text. In recent years, NLP has seen tremendous advancements \n",
       "with the development of deep learning models and large-scale language models like GPT-3. These models have \n",
       "revolutionized various NLP tasks, including machine translation, sentiment analysis, and text summarization."
      ]
     },
     "execution_count": 7,
     "metadata": {},
     "output_type": "execute_result"
    }
   ],
   "source": [
    "doc"
   ]
  },
  {
   "cell_type": "code",
   "execution_count": 8,
   "id": "a3f35b43",
   "metadata": {},
   "outputs": [],
   "source": [
    "tokens = [token.text for token in doc]"
   ]
  },
  {
   "cell_type": "code",
   "execution_count": 9,
   "id": "b3238696",
   "metadata": {},
   "outputs": [
    {
     "data": {
      "text/plain": [
       "['\\n',\n",
       " 'Natural',\n",
       " 'language',\n",
       " 'processing',\n",
       " '(',\n",
       " 'NLP',\n",
       " ')',\n",
       " 'is',\n",
       " 'a',\n",
       " 'field',\n",
       " 'of',\n",
       " 'artificial',\n",
       " 'intelligence',\n",
       " 'that',\n",
       " 'focuses',\n",
       " 'on',\n",
       " 'the',\n",
       " 'interaction',\n",
       " '\\n',\n",
       " 'between',\n",
       " 'computers',\n",
       " 'and',\n",
       " 'humans',\n",
       " 'using',\n",
       " 'natural',\n",
       " 'language',\n",
       " '.',\n",
       " 'The',\n",
       " 'ultimate',\n",
       " 'objective',\n",
       " 'of',\n",
       " 'NLP',\n",
       " 'is',\n",
       " 'to',\n",
       " 'enable',\n",
       " 'computers',\n",
       " '\\n',\n",
       " 'to',\n",
       " 'understand',\n",
       " ',',\n",
       " 'interpret',\n",
       " ',',\n",
       " 'and',\n",
       " 'generate',\n",
       " 'human',\n",
       " '-',\n",
       " 'like',\n",
       " 'text',\n",
       " '.',\n",
       " 'In',\n",
       " 'recent',\n",
       " 'years',\n",
       " ',',\n",
       " 'NLP',\n",
       " 'has',\n",
       " 'seen',\n",
       " 'tremendous',\n",
       " 'advancements',\n",
       " '\\n',\n",
       " 'with',\n",
       " 'the',\n",
       " 'development',\n",
       " 'of',\n",
       " 'deep',\n",
       " 'learning',\n",
       " 'models',\n",
       " 'and',\n",
       " 'large',\n",
       " '-',\n",
       " 'scale',\n",
       " 'language',\n",
       " 'models',\n",
       " 'like',\n",
       " 'GPT-3',\n",
       " '.',\n",
       " 'These',\n",
       " 'models',\n",
       " 'have',\n",
       " '\\n',\n",
       " 'revolutionized',\n",
       " 'various',\n",
       " 'NLP',\n",
       " 'tasks',\n",
       " ',',\n",
       " 'including',\n",
       " 'machine',\n",
       " 'translation',\n",
       " ',',\n",
       " 'sentiment',\n",
       " 'analysis',\n",
       " ',',\n",
       " 'and',\n",
       " 'text',\n",
       " 'summarization',\n",
       " '.',\n",
       " '\\n']"
      ]
     },
     "execution_count": 9,
     "metadata": {},
     "output_type": "execute_result"
    }
   ],
   "source": [
    "tokens"
   ]
  },
  {
   "cell_type": "code",
   "execution_count": 10,
   "id": "b64e31ee",
   "metadata": {},
   "outputs": [],
   "source": [
    "punctuation = punctuation + '\\n'"
   ]
  },
  {
   "cell_type": "code",
   "execution_count": 11,
   "id": "a63fa234",
   "metadata": {},
   "outputs": [
    {
     "data": {
      "text/plain": [
       "'!\"#$%&\\'()*+,-./:;<=>?@[\\\\]^_`{|}~\\n'"
      ]
     },
     "execution_count": 11,
     "metadata": {},
     "output_type": "execute_result"
    }
   ],
   "source": [
    "punctuation"
   ]
  },
  {
   "cell_type": "code",
   "execution_count": null,
   "id": "8efa818c",
   "metadata": {},
   "outputs": [],
   "source": [
    "# find out the word frequency"
   ]
  },
  {
   "cell_type": "code",
   "execution_count": 12,
   "id": "fb5a514c",
   "metadata": {},
   "outputs": [],
   "source": [
    "word_frequencies = {}\n",
    "for word in doc:\n",
    "    if word.text.lower() not in stopwords:\n",
    "        if word.text.lower() not in punctuation:\n",
    "            if word.text not in word_frequencies.keys():\n",
    "                word_frequencies[word.text] = 1\n",
    "            else:\n",
    "                word_frequencies[word.text] += 1"
   ]
  },
  {
   "cell_type": "code",
   "execution_count": 13,
   "id": "c9979ad9",
   "metadata": {},
   "outputs": [
    {
     "data": {
      "text/plain": [
       "{'Natural': 1,\n",
       " 'language': 3,\n",
       " 'processing': 1,\n",
       " 'NLP': 4,\n",
       " 'field': 1,\n",
       " 'artificial': 1,\n",
       " 'intelligence': 1,\n",
       " 'focuses': 1,\n",
       " 'interaction': 1,\n",
       " 'computers': 2,\n",
       " 'humans': 1,\n",
       " 'natural': 1,\n",
       " 'ultimate': 1,\n",
       " 'objective': 1,\n",
       " 'enable': 1,\n",
       " 'understand': 1,\n",
       " 'interpret': 1,\n",
       " 'generate': 1,\n",
       " 'human': 1,\n",
       " 'like': 2,\n",
       " 'text': 2,\n",
       " 'recent': 1,\n",
       " 'years': 1,\n",
       " 'seen': 1,\n",
       " 'tremendous': 1,\n",
       " 'advancements': 1,\n",
       " 'development': 1,\n",
       " 'deep': 1,\n",
       " 'learning': 1,\n",
       " 'models': 3,\n",
       " 'large': 1,\n",
       " 'scale': 1,\n",
       " 'GPT-3': 1,\n",
       " 'revolutionized': 1,\n",
       " 'tasks': 1,\n",
       " 'including': 1,\n",
       " 'machine': 1,\n",
       " 'translation': 1,\n",
       " 'sentiment': 1,\n",
       " 'analysis': 1,\n",
       " 'summarization': 1}"
      ]
     },
     "execution_count": 13,
     "metadata": {},
     "output_type": "execute_result"
    }
   ],
   "source": [
    "word_frequencies"
   ]
  },
  {
   "cell_type": "code",
   "execution_count": 14,
   "id": "d7a47b37",
   "metadata": {},
   "outputs": [],
   "source": [
    "max_frequency = max(word_frequencies.values())"
   ]
  },
  {
   "cell_type": "code",
   "execution_count": 15,
   "id": "d23a8cbf",
   "metadata": {},
   "outputs": [
    {
     "data": {
      "text/plain": [
       "4"
      ]
     },
     "execution_count": 15,
     "metadata": {},
     "output_type": "execute_result"
    }
   ],
   "source": [
    "max_frequency"
   ]
  },
  {
   "cell_type": "code",
   "execution_count": null,
   "id": "296f5613",
   "metadata": {},
   "outputs": [],
   "source": [
    "# Normalize the frequency"
   ]
  },
  {
   "cell_type": "code",
   "execution_count": 16,
   "id": "ebda0906",
   "metadata": {},
   "outputs": [],
   "source": [
    "for word in word_frequencies.keys():\n",
    "    word_frequencies[word] = word_frequencies[word]/max_frequency"
   ]
  },
  {
   "cell_type": "code",
   "execution_count": 17,
   "id": "dd2bf1da",
   "metadata": {},
   "outputs": [
    {
     "data": {
      "text/plain": [
       "{'Natural': 0.25,\n",
       " 'language': 0.75,\n",
       " 'processing': 0.25,\n",
       " 'NLP': 1.0,\n",
       " 'field': 0.25,\n",
       " 'artificial': 0.25,\n",
       " 'intelligence': 0.25,\n",
       " 'focuses': 0.25,\n",
       " 'interaction': 0.25,\n",
       " 'computers': 0.5,\n",
       " 'humans': 0.25,\n",
       " 'natural': 0.25,\n",
       " 'ultimate': 0.25,\n",
       " 'objective': 0.25,\n",
       " 'enable': 0.25,\n",
       " 'understand': 0.25,\n",
       " 'interpret': 0.25,\n",
       " 'generate': 0.25,\n",
       " 'human': 0.25,\n",
       " 'like': 0.5,\n",
       " 'text': 0.5,\n",
       " 'recent': 0.25,\n",
       " 'years': 0.25,\n",
       " 'seen': 0.25,\n",
       " 'tremendous': 0.25,\n",
       " 'advancements': 0.25,\n",
       " 'development': 0.25,\n",
       " 'deep': 0.25,\n",
       " 'learning': 0.25,\n",
       " 'models': 0.75,\n",
       " 'large': 0.25,\n",
       " 'scale': 0.25,\n",
       " 'GPT-3': 0.25,\n",
       " 'revolutionized': 0.25,\n",
       " 'tasks': 0.25,\n",
       " 'including': 0.25,\n",
       " 'machine': 0.25,\n",
       " 'translation': 0.25,\n",
       " 'sentiment': 0.25,\n",
       " 'analysis': 0.25,\n",
       " 'summarization': 0.25}"
      ]
     },
     "execution_count": 17,
     "metadata": {},
     "output_type": "execute_result"
    }
   ],
   "source": [
    "word_frequencies"
   ]
  },
  {
   "cell_type": "code",
   "execution_count": null,
   "id": "4429c188",
   "metadata": {},
   "outputs": [],
   "source": [
    "# sentence token"
   ]
  },
  {
   "cell_type": "code",
   "execution_count": 18,
   "id": "44dba128",
   "metadata": {},
   "outputs": [],
   "source": [
    "sentence_tokens = [sent for sent in doc.sents]"
   ]
  },
  {
   "cell_type": "code",
   "execution_count": 19,
   "id": "aa445141",
   "metadata": {},
   "outputs": [
    {
     "data": {
      "text/plain": [
       "[\n",
       " Natural language processing (NLP) is a field of artificial intelligence that focuses on the interaction \n",
       " between computers and humans using natural language.,\n",
       " The ultimate objective of NLP is to enable computers \n",
       " to understand, interpret, and generate human-like text.,\n",
       " In recent years, NLP has seen tremendous advancements \n",
       " with the development of deep learning models and large-scale language models like GPT-3.,\n",
       " These models have \n",
       " revolutionized various NLP tasks, including machine translation, sentiment analysis, and text summarization.]"
      ]
     },
     "execution_count": 19,
     "metadata": {},
     "output_type": "execute_result"
    }
   ],
   "source": [
    "sentence_tokens"
   ]
  },
  {
   "cell_type": "code",
   "execution_count": 20,
   "id": "7fe53a94",
   "metadata": {},
   "outputs": [],
   "source": [
    "sentence_score = {}\n",
    "for sent in sentence_tokens:\n",
    "    for word in sent:\n",
    "        if word.text.lower() in word_frequencies.keys():\n",
    "            if sent not in sentence_score.keys():\n",
    "                sentence_score[sent] = word_frequencies[word.text.lower()]\n",
    "            else:\n",
    "                sentence_score[sent] += word_frequencies[word.text.lower()]"
   ]
  },
  {
   "cell_type": "code",
   "execution_count": 21,
   "id": "4b3b76de",
   "metadata": {},
   "outputs": [
    {
     "data": {
      "text/plain": [
       "{\n",
       " Natural language processing (NLP) is a field of artificial intelligence that focuses on the interaction \n",
       " between computers and humans using natural language.: 4.25,\n",
       " The ultimate objective of NLP is to enable computers \n",
       " to understand, interpret, and generate human-like text.: 3.25,\n",
       " In recent years, NLP has seen tremendous advancements \n",
       " with the development of deep learning models and large-scale language models like GPT-3.: 5.25,\n",
       " These models have \n",
       " revolutionized various NLP tasks, including machine translation, sentiment analysis, and text summarization.: 3.25}"
      ]
     },
     "execution_count": 21,
     "metadata": {},
     "output_type": "execute_result"
    }
   ],
   "source": [
    "sentence_score"
   ]
  },
  {
   "cell_type": "code",
   "execution_count": 22,
   "id": "16a29a92",
   "metadata": {},
   "outputs": [],
   "source": [
    "from heapq import nlargest"
   ]
  },
  {
   "cell_type": "code",
   "execution_count": 49,
   "id": "656b4ba0",
   "metadata": {},
   "outputs": [],
   "source": [
    "select_length = int(len(sentence_score)*0.6)"
   ]
  },
  {
   "cell_type": "code",
   "execution_count": 50,
   "id": "dbc94c7a",
   "metadata": {},
   "outputs": [
    {
     "data": {
      "text/plain": [
       "2"
      ]
     },
     "execution_count": 50,
     "metadata": {},
     "output_type": "execute_result"
    }
   ],
   "source": [
    "select_length"
   ]
  },
  {
   "cell_type": "code",
   "execution_count": 51,
   "id": "632ce427",
   "metadata": {},
   "outputs": [],
   "source": [
    "summary = nlargest(select_length,sentence_score,key =  sentence_score.get)"
   ]
  },
  {
   "cell_type": "code",
   "execution_count": 52,
   "id": "2ea36b51",
   "metadata": {},
   "outputs": [
    {
     "data": {
      "text/plain": [
       "[In recent years, NLP has seen tremendous advancements \n",
       " with the development of deep learning models and large-scale language models like GPT-3.,\n",
       " \n",
       " Natural language processing (NLP) is a field of artificial intelligence that focuses on the interaction \n",
       " between computers and humans using natural language.]"
      ]
     },
     "execution_count": 52,
     "metadata": {},
     "output_type": "execute_result"
    }
   ],
   "source": [
    "summary"
   ]
  },
  {
   "cell_type": "code",
   "execution_count": 54,
   "id": "80e4886b",
   "metadata": {},
   "outputs": [],
   "source": [
    "final_summary = [word.text for word in summary]"
   ]
  },
  {
   "cell_type": "code",
   "execution_count": 55,
   "id": "5e11d72c",
   "metadata": {},
   "outputs": [
    {
     "data": {
      "text/plain": [
       "['In recent years, NLP has seen tremendous advancements \\nwith the development of deep learning models and large-scale language models like GPT-3.',\n",
       " '\\nNatural language processing (NLP) is a field of artificial intelligence that focuses on the interaction \\nbetween computers and humans using natural language.']"
      ]
     },
     "execution_count": 55,
     "metadata": {},
     "output_type": "execute_result"
    }
   ],
   "source": [
    "final_summary"
   ]
  },
  {
   "cell_type": "code",
   "execution_count": 56,
   "id": "1f2a8d5d",
   "metadata": {},
   "outputs": [],
   "source": [
    "summary = \" \".join(final_summary)"
   ]
  },
  {
   "cell_type": "code",
   "execution_count": 57,
   "id": "1498d77c",
   "metadata": {},
   "outputs": [
    {
     "data": {
      "text/plain": [
       "'In recent years, NLP has seen tremendous advancements \\nwith the development of deep learning models and large-scale language models like GPT-3. \\nNatural language processing (NLP) is a field of artificial intelligence that focuses on the interaction \\nbetween computers and humans using natural language.'"
      ]
     },
     "execution_count": 57,
     "metadata": {},
     "output_type": "execute_result"
    }
   ],
   "source": [
    "summary"
   ]
  },
  {
   "cell_type": "code",
   "execution_count": 58,
   "id": "6f772664",
   "metadata": {},
   "outputs": [
    {
     "name": "stdout",
     "output_type": "stream",
     "text": [
      "word count original:  541\n",
      "after Summarization:  302\n"
     ]
    }
   ],
   "source": [
    "print('word count original: ',len(text))\n",
    "print('after Summarization: ',len(summary))"
   ]
  }
 ],
 "metadata": {
  "kernelspec": {
   "display_name": "Python 3 (ipykernel)",
   "language": "python",
   "name": "python3"
  },
  "language_info": {
   "codemirror_mode": {
    "name": "ipython",
    "version": 3
   },
   "file_extension": ".py",
   "mimetype": "text/x-python",
   "name": "python",
   "nbconvert_exporter": "python",
   "pygments_lexer": "ipython3",
   "version": "3.11.4"
  }
 },
 "nbformat": 4,
 "nbformat_minor": 5
}
